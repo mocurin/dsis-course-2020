{
 "cells": [
  {
   "cell_type": "markdown",
   "metadata": {},
   "source": [
    "# Лабораторная работа №1"
   ]
  },
  {
   "cell_type": "markdown",
   "metadata": {},
   "source": [
    "## Задание:"
   ]
  },
  {
   "cell_type": "code",
   "execution_count": 1,
   "metadata": {},
   "outputs": [
    {
     "data": {
      "text/markdown": [
       "### К лекции №2\n",
       "\n",
       "**Упражнение №5.0.1**  \n",
       "\n",
       "Освойтесь с NumPy с помощью этого туториала:  \n",
       "\n",
       "https://jakevdp.github.io/PythonDataScienceHandbook/02.00-introduction-to-numpy.html\n",
       "  \n",
       "Перед следующим упражнением, убедитесь что вы понимаете разницу между nparray и стандартным list!  \n",
       "  \n",
       "**Упражнение №5.0.2**  \n",
       "Изучите Pandas - дефакто стандарт для работы с табличными (не bigdata) данными.  \n",
       "\n",
       "https://jakevdp.github.io/PythonDataScienceHandbook/03.01-introducing-pandas-objects.html\n",
       "\n",
       "https://jakevdp.github.io/PythonDataScienceHandbook/03.02-data-indexing-and-selection.html\n",
       "\n",
       "https://jakevdp.github.io/PythonDataScienceHandbook/03.01-introducing-pandas-objects.html \n",
       " \n",
       "**Упражнение №5.1**  \n",
       "\n",
       "Сделайте свой датафрейм на основе 2D-nparray  \n",
       "Он должен поддерживать:  \n",
       "* построчный индекс  \n",
       "* хранить названия и порядок колонок  \n",
       "* функции индексирования:  \n",
       " * iloc[i,j] - получить элемент по i-й строке j-й колонке. (i/j также могут быть slice-объектами)  \n",
       " * loc[k,z] - получить элемент по k-му значению построчного индекса z-й колонке (k может быть iterable/slice, z - iterable)  \n",
       " * [] - переопределить getitem, сделать его алиасом вашей loc-функции  \n",
       "Также нужно сделать статический метод, читающий CSV:   \n",
       "`your_package.read_csv(file_path, **csv_opts)`   \n",
       "и возвращающий инстанс вашего датафрейма с прочитанными данными.    \n",
       "Метод должен принимать параметры, настраивающие поведение чтения CSV-файла.  \n",
       "\n",
       "**Упражнение №6.1**\n",
       "\n",
       "Почитайте про случайный лес в [мануалах scikit](https://scikit-learn.org/stable/modules/generated/sklearn.ensemble.RandomForestClassifier)\n",
       "\n",
       "Научитесь обучать лес и запускать его.  \n",
       "Для хранения и передачи данных для sklearn вы должны использовать собственный датафрейм!  \n",
       "\n",
       "**Упражнение №6.2**\n",
       "\n",
       "Научитесь визуализировать деревья. Почитайте:\n",
       "\n",
       "  * [sklearn.tree.export_graphviz](https://scikit-learn.org/stable/modules/generated/sklearn.tree.export_graphviz.html#sklearn.tree.export_graphviz)\n",
       "  * [How to Visualize a Decision Tree from a Random Forest in Python using Scikit-Learn](https://towardsdatascience.com/how-to-visualize-a-decision-tree-from-a-random-forest-in-python-using-scikit-learn-38ad2d75f21c)\n",
       "\n",
       "**Задача №7**\n",
       "\n",
       "Посмотрите на данные из выборки ещё раз. Обучите RF на этих данных.\n",
       "Сравните RF c алгоритмами **p1_fraud**, **p2_fraud** и **p3_fraud**.\n",
       "\n",
       "**Задача №8**\n",
       "\n",
       "Подумайте, как с помощью RF оценивать информативность признаков?\n",
       "Найдите информативные признаки. \n",
       "\n",
       "Сравните результаты с результатами **упражнения №1**.\n"
      ],
      "text/plain": [
       "<IPython.core.display.Markdown object>"
      ]
     },
     "metadata": {},
     "output_type": "display_data"
    }
   ],
   "source": [
    "from IPython.display import display, Markdown\n",
    "\n",
    "with open('lab01.md', 'r') as fh:\n",
    "    content = fh.read()\n",
    "\n",
    "display(Markdown(content))"
   ]
  },
  {
   "cell_type": "markdown",
   "metadata": {},
   "source": [
    "## Упражнение №5.0.1"
   ]
  },
  {
   "cell_type": "markdown",
   "metadata": {},
   "source": [
    "## Упражнение №5.0.2"
   ]
  },
  {
   "cell_type": "markdown",
   "metadata": {},
   "source": [
    "## Упражнение №5.1"
   ]
  },
  {
   "cell_type": "code",
   "execution_count": 63,
   "metadata": {},
   "outputs": [],
   "source": [
    "import csv\n",
    "import numpy as np\n",
    "\n",
    "from typing import Iterable, Sequence, Optional, Union\n",
    "\n",
    "\n",
    "class IdxView:\n",
    "    def __init__(self, dataframe):\n",
    "        self.dataframe = dataframe\n",
    "    \n",
    "    def __getitem__(self, key):\n",
    "        pass\n",
    "    \n",
    "    def __setitem__(self, key, value):\n",
    "        pass\n",
    "\n",
    "\n",
    "class Dataframe:\n",
    "    def __init__(self,\n",
    "                 data: np.ndarray,\n",
    "                 columns: Union[np.ndarray, Sequence, None] = None,\n",
    "                 indices: Union[np.ndarray, Sequence, None] = None):\n",
    "        \"\"\"\n",
    "        Two-dimensional, size-immutable table.\n",
    "        \n",
    "        Contains labeled axis. Provides O(1) rows & columns access via index or key.\n",
    "        \n",
    "        Parameters\n",
    "            :data: ndarray\n",
    "                Contains rows\n",
    "            :columns: ndarray, sequence* or None\n",
    "                Contains column labels. :columns: len is required to equal data.shape[1]\n",
    "                If :columns: is None labels are filled via np.arrange on data.shape[1]\n",
    "            :indices: ndarray, sequence* or None\n",
    "                Contains row labels. :indices: len is required to equal data.shape[0]\n",
    "                If :indices: is None labels are filled via np.arrange on data.shape[0]\n",
    "            \n",
    "            *sequence (vs iterable) allows __len__, making shape checks easier.\n",
    "             Also removes intermidiate array creations for preserving one-time iterables entirely.\n",
    "            \n",
    "        Raises\n",
    "            :ValueError:\n",
    "                if columns/indices shape requirements are not satisfied or recieved non-2D array as data.\n",
    "        \"\"\"\n",
    "        if len(data.shape) != 2:\n",
    "            raise ValueError(f\"2D array required. \"\n",
    "                             f\"Recieved array of {len(data.shape)} dimensions\")\n",
    "        # Transposed due to np.array type-casting requirements\n",
    "        self.data = self.data.T\n",
    "        x, y = self.data.shape\n",
    "        \n",
    "        def validate_shape(seq, req_len, label: str):\n",
    "            if seq is None:\n",
    "                return np.arange(req_len)\n",
    "            if len(seq) != req_len:\n",
    "                raise ValueError(f\"Actual {label}s and recieved {label}s amount vary: \"\n",
    "                                 f\"{req_len} vs {len(seq)}\")\n",
    "            return np.array(seq)\n",
    "        \n",
    "        columns = validate_shape(columns, x, 'column')\n",
    "        indices = validate_shape(indices, y, 'row')\n",
    "        \n",
    "        # Construct two-way mapping for loc & iloc internal usage\n",
    "        self.col_to_loc = {col: loc for col, loc in enumerate(columns)}\n",
    "        self.loc_to_col = np.array(columns)\n",
    "        self.idx_to_loc = {idx: loc for idx, loc in enumerate(indices)}\n",
    "        self.loc_to_idx = np.array(indices)\n",
    "    \n",
    "    @property\n",
    "    def loc(self):\n",
    "        pass\n",
    "    \n",
    "    @property\n",
    "    def iloc(self):\n",
    "        pass\n",
    "    \n",
    "    def to_csv(self, file_path, **kwargs):\n",
    "        with open(file_path, 'w', newline='') as file:\n",
    "            csvfile = csv.writer(file, **kwargs)\n",
    "            csvfile.writerow(self.columns)\n",
    "            csvfile.writerows(self.data.T)\n",
    "    \n",
    "    @staticmethod\n",
    "    def read_csv(file_path, **kwargs):\n",
    "        with open(file_path, 'r', newline='') as file:\n",
    "            csvfile = csv.reader(file, **kwargs)\n",
    "            try: columns = next(csvfile)\n",
    "            except StopIteration: raise RuntimeError(\"File is empty\")\n",
    "            return Dataframe(np.ndarray(csvfile), columns)\n",
    "    \n",
    "    __getitem__ = loc"
   ]
  }
 ],
 "metadata": {
  "kernelspec": {
   "display_name": "Python 3",
   "language": "python",
   "name": "python3"
  },
  "language_info": {
   "codemirror_mode": {
    "name": "ipython",
    "version": 3
   },
   "file_extension": ".py",
   "mimetype": "text/x-python",
   "name": "python",
   "nbconvert_exporter": "python",
   "pygments_lexer": "ipython3",
   "version": "3.6.9"
  }
 },
 "nbformat": 4,
 "nbformat_minor": 4
}
